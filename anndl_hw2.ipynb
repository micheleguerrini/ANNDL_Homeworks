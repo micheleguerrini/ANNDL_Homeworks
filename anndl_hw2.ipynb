{
  "metadata": {
    "kernelspec": {
      "language": "python",
      "display_name": "Python 3",
      "name": "python3"
    },
    "language_info": {
      "name": "python",
      "version": "3.7.12",
      "mimetype": "text/x-python",
      "codemirror_mode": {
        "name": "ipython",
        "version": 3
      },
      "pygments_lexer": "ipython3",
      "nbconvert_exporter": "python",
      "file_extension": ".py"
    },
    "colab": {
      "provenance": []
    }
  },
  "nbformat_minor": 0,
  "nbformat": 4,
  "cells": [
    {
      "cell_type": "code",
      "source": [
        "import os\n",
        "import tensorflow as tf\n",
        "import numpy as np\n",
        "import random\n",
        "from sklearn.model_selection import train_test_split\n",
        "from sklearn.metrics import accuracy_score, f1_score, precision_score, recall_score\n",
        "from sklearn.metrics import confusion_matrix\n",
        "import seaborn as sns\n",
        "import pandas as pd\n",
        "import matplotlib as mpl\n",
        "import matplotlib.pyplot as plt\n",
        "import matplotlib.image as mpimg\n",
        "\n",
        "tfk = tf.keras\n",
        "tfkl = tf.keras.layers"
      ],
      "metadata": {
        "_uuid": "8f2839f25d086af736a60e9eeb907d3b93b6e0e5",
        "_cell_guid": "b1076dfc-b9ad-4769-8c92-a6c4dae69d19",
        "execution": {
          "iopub.status.busy": "2022-12-20T12:57:36.009255Z",
          "iopub.execute_input": "2022-12-20T12:57:36.009701Z",
          "iopub.status.idle": "2022-12-20T12:57:48.156422Z",
          "shell.execute_reply.started": "2022-12-20T12:57:36.009611Z",
          "shell.execute_reply": "2022-12-20T12:57:48.155382Z"
        },
        "trusted": true,
        "id": "FAQolYDuApRl"
      },
      "execution_count": null,
      "outputs": []
    },
    {
      "cell_type": "code",
      "source": [
        "# Random seed for reproducibility\n",
        "seed = 42\n",
        "\n",
        "random.seed(seed)\n",
        "os.environ['PYTHONHASHSEED'] = str(seed)\n",
        "np.random.seed(seed)\n",
        "tf.random.set_seed(seed)\n",
        "tf.compat.v1.set_random_seed(seed)"
      ],
      "metadata": {
        "execution": {
          "iopub.status.busy": "2022-12-20T12:57:48.158381Z",
          "iopub.execute_input": "2022-12-20T12:57:48.158943Z",
          "iopub.status.idle": "2022-12-20T12:57:48.165385Z",
          "shell.execute_reply.started": "2022-12-20T12:57:48.158914Z",
          "shell.execute_reply": "2022-12-20T12:57:48.164400Z"
        },
        "trusted": true,
        "id": "NCOfQUsPApRp"
      },
      "execution_count": null,
      "outputs": []
    },
    {
      "cell_type": "code",
      "source": [
        "#loading dataset\n",
        "%cd ../input/an2dl-dataset-hw2"
      ],
      "metadata": {
        "execution": {
          "iopub.status.busy": "2022-12-20T12:57:48.167581Z",
          "iopub.execute_input": "2022-12-20T12:57:48.168575Z",
          "iopub.status.idle": "2022-12-20T12:57:48.192340Z",
          "shell.execute_reply.started": "2022-12-20T12:57:48.168504Z",
          "shell.execute_reply": "2022-12-20T12:57:48.191244Z"
        },
        "trusted": true,
        "id": "eQUnRx5HApRq",
        "outputId": "c9a6e7df-3c9a-4b0a-bbf2-483c73efc47c"
      },
      "execution_count": null,
      "outputs": [
        {
          "name": "stdout",
          "text": "/kaggle/input/an2dl-dataset-hw2\n",
          "output_type": "stream"
        }
      ]
    },
    {
      "cell_type": "code",
      "source": [
        "%ls"
      ],
      "metadata": {
        "execution": {
          "iopub.status.busy": "2022-12-20T12:57:48.194898Z",
          "iopub.execute_input": "2022-12-20T12:57:48.195194Z",
          "iopub.status.idle": "2022-12-20T12:57:49.240291Z",
          "shell.execute_reply.started": "2022-12-20T12:57:48.195166Z",
          "shell.execute_reply": "2022-12-20T12:57:49.239086Z"
        },
        "trusted": true,
        "id": "-TuN3miRApRs",
        "outputId": "a73ab5bc-984e-4587-83af-4aebf8b485b5"
      },
      "execution_count": null,
      "outputs": [
        {
          "name": "stdout",
          "text": "x_train.npy  y_train.npy\n",
          "output_type": "stream"
        }
      ]
    },
    {
      "cell_type": "markdown",
      "source": [
        "# **Data Preprocessing**"
      ],
      "metadata": {
        "id": "QbXlms29ApRs"
      }
    },
    {
      "cell_type": "code",
      "source": [
        "x = np.load(\"./x_train.npy\")\n",
        "y = np.load(\"./y_train.npy\")\n",
        "\n",
        "y_categorical = tfk.utils.to_categorical(y)"
      ],
      "metadata": {
        "execution": {
          "iopub.status.busy": "2022-12-20T12:57:49.243056Z",
          "iopub.execute_input": "2022-12-20T12:57:49.243512Z",
          "iopub.status.idle": "2022-12-20T12:57:49.326643Z",
          "shell.execute_reply.started": "2022-12-20T12:57:49.243453Z",
          "shell.execute_reply": "2022-12-20T12:57:49.325669Z"
        },
        "trusted": true,
        "id": "24x9obpAApRt"
      },
      "execution_count": null,
      "outputs": []
    },
    {
      "cell_type": "code",
      "source": [
        "classes = [\n",
        "    \"Wish\",\n",
        "    \"Another\",\n",
        "    \"Comfortably\",\n",
        "    \"Money\",\n",
        "    \"Breathe\",\n",
        "    \"Time\",\n",
        "    \"Brain\",\n",
        "    \"Echoes\",\n",
        "    \"Wearing\",\n",
        "    \"Sorrow\",\n",
        "    \"Hey\",\n",
        "    \"Shine\"]\n",
        "\n",
        "#target\n",
        "target_dict = {classes[k]: v for v, k in enumerate(np.unique(y))}\n",
        "print(target_dict)\n",
        "\n",
        "# Convert the label to categorical\n",
        "target_val = [target_dict[classes[i]] for i in range(len(classes))]\n",
        "y2 = tfk.utils.to_categorical(target_val)\n",
        "print(len(target_val))\n",
        "\n",
        "# Inspect the target\n",
        "plt.figure(figsize=(13,3))\n",
        "sns.histplot(data=pd.DataFrame(y, columns=['digit']), x='digit', stat=\"percent\", element=\"bars\", fill=True, kde=True)\n",
        "plt.show()\n",
        "\n",
        "print('Counting occurrences of target classes:')\n",
        "print(pd.DataFrame(y, columns=['digit'])['digit'].value_counts())\n"
      ],
      "metadata": {
        "execution": {
          "iopub.status.busy": "2022-12-20T12:57:49.328283Z",
          "iopub.execute_input": "2022-12-20T12:57:49.329004Z",
          "iopub.status.idle": "2022-12-20T12:57:49.678020Z",
          "shell.execute_reply.started": "2022-12-20T12:57:49.328964Z",
          "shell.execute_reply": "2022-12-20T12:57:49.676964Z"
        },
        "trusted": true,
        "id": "9F0UOdueApRu",
        "outputId": "fb5936b1-f34c-44d4-c232-5748277e29d6"
      },
      "execution_count": null,
      "outputs": [
        {
          "name": "stdout",
          "text": "{'Wish': 0, 'Another': 1, 'Comfortably': 2, 'Money': 3, 'Breathe': 4, 'Time': 5, 'Brain': 6, 'Echoes': 7, 'Wearing': 8, 'Sorrow': 9, 'Hey': 10, 'Shine': 11}\n12\n",
          "output_type": "stream"
        },
        {
          "output_type": "display_data",
          "data": {
            "text/plain": "<Figure size 936x216 with 1 Axes>",
            "image/png": "[encoded data removed]"
          },
          "metadata": {
            "needs_background": "light"
          }
        },
        {
          "name": "stdout",
          "text": "Counting occurrences of target classes:\n9     777\n3     381\n6     313\n2     270\n5     153\n1     123\n8     120\n10     77\n7      68\n4      62\n11     51\n0      34\nName: digit, dtype: int64\n",
          "output_type": "stream"
        }
      ]
    },
    {
      "cell_type": "code",
      "source": [
        "#SPLIT TRAIN AND VALIDATION\n",
        "\n",
        "x_train, x_test, y_train, y_test = train_test_split(x, y, random_state=seed, test_size=.2, stratify = y)\n",
        "print('train size: ',  x_train.shape, y_train.shape, '\\ntest size: ', x_test.shape, y_test.shape)\n",
        "\n",
        "#verify how many elements for each class there are in y_train\n",
        "count_train = np.zeros(y_categorical.shape[-1])\n",
        "for i in range(len(count_train)):\n",
        "    count_train[i] = list(y_train).count(i)\n",
        "    i+=1\n",
        "print(count_train)\n",
        "\n",
        "plt.figure(figsize=(13,3))\n",
        "sns.histplot(data=pd.DataFrame(y_train, columns=['digit']), x='digit', stat=\"percent\", element=\"bars\", fill=True, kde=True)\n",
        "plt.show()\n",
        "\n",
        "#verify how many elements for each class there are in y_test\n",
        "count_test = np.zeros(y_categorical.shape[-1])\n",
        "for i in range(len(count_test)):\n",
        "    count_test[i] = list(y_test).count(i)\n",
        "    if(list(y_test).count(i) == 0): count_test[i]=0\n",
        "    i+=1\n",
        "print(count_test)\n",
        "print('in the test there are ', len(count_test), ' classes')\n",
        "\n",
        "plt.figure(figsize=(13,3))\n",
        "sns.histplot(data=pd.DataFrame(y_test, columns=['digit']), x='digit', stat=\"percent\", element=\"bars\", fill=True, kde=True)\n",
        "plt.show()"
      ],
      "metadata": {
        "execution": {
          "iopub.status.busy": "2022-12-20T12:57:49.796115Z",
          "iopub.execute_input": "2022-12-20T12:57:49.800983Z",
          "iopub.status.idle": "2022-12-20T12:57:50.564777Z",
          "shell.execute_reply.started": "2022-12-20T12:57:49.800931Z",
          "shell.execute_reply": "2022-12-20T12:57:50.563704Z"
        },
        "trusted": true,
        "id": "fC3tfb2rApRv",
        "outputId": "564dc623-9007-47c9-a1fb-e64f7eafaccc"
      },
      "execution_count": null,
      "outputs": [
        {
          "name": "stdout",
          "text": "train size:  (1943, 36, 6) (1943,) \ntest size:  (486, 36, 6) (486,)\n[ 27.  98. 216. 305.  50. 122. 250.  54.  96. 622.  62.  41.]\n",
          "output_type": "stream"
        },
        {
          "output_type": "display_data",
          "data": {
            "text/plain": "<Figure size 936x216 with 1 Axes>",
            "image/png": "[encoded data removed]"
          },
          "metadata": {
            "needs_background": "light"
          }
        },
        {
          "name": "stdout",
          "text": "[  7.  25.  54.  76.  12.  31.  63.  14.  24. 155.  15.  10.]\nin the test there are  12  classes\n",
          "output_type": "stream"
        },
        {
          "output_type": "display_data",
          "data": {
            "text/plain": "<Figure size 936x216 with 1 Axes>",
            "image/png": "[encoded data removed]"
          },
          "metadata": {
            "needs_background": "light"
          }
        }
      ]
    },
    {
      "cell_type": "code",
      "source": [
        "#metadata for model and fit\n",
        "\n",
        "y_classes = tfk.utils.to_categorical(y_train)\n",
        "\n",
        "input_shape = x_train.shape[1:]\n",
        "classes = y_classes.shape[-1]\n",
        "\n",
        "batch_size = 8\n",
        "epochs = 300\n",
        "\n",
        "print(y_classes.shape)"
      ],
      "metadata": {
        "execution": {
          "iopub.status.busy": "2022-12-20T12:57:50.589026Z",
          "iopub.execute_input": "2022-12-20T12:57:50.589431Z",
          "iopub.status.idle": "2022-12-20T12:57:50.600371Z",
          "shell.execute_reply.started": "2022-12-20T12:57:50.589379Z",
          "shell.execute_reply": "2022-12-20T12:57:50.599122Z"
        },
        "trusted": true,
        "id": "BnCUV6bQApRw",
        "outputId": "71171f6c-d62a-45a0-f67b-8be2c5e4a67a"
      },
      "execution_count": null,
      "outputs": [
        {
          "name": "stdout",
          "text": "(1943, 12)\n",
          "output_type": "stream"
        }
      ]
    },
    {
      "cell_type": "code",
      "source": [
        "def plot_confusion_matrix(model, x_test):\n",
        "    # Predict the test set\n",
        "    predictions = model.predict(x_test)\n",
        "    y_test_cat = tfk.utils.to_categorical(y_test)\n",
        "\n",
        "    # Compute the confusion matrix\n",
        "    cm = confusion_matrix(np.argmax(y_test_cat, axis=-1), np.argmax(predictions, axis=-1))\n",
        "\n",
        "    # Compute the classification metrics\n",
        "    accuracy = accuracy_score(np.argmax(y_test_cat, axis=-1), np.argmax(predictions, axis=-1))\n",
        "    precision = precision_score(np.argmax(y_test_cat, axis=-1), np.argmax(predictions, axis=-1), average='macro')\n",
        "    recall = recall_score(np.argmax(y_test_cat, axis=-1), np.argmax(predictions, axis=-1), average='macro')\n",
        "    f1 = f1_score(np.argmax(y_test_cat, axis=-1), np.argmax(predictions, axis=-1), average='macro')\n",
        "    print('Accuracy:',accuracy.round(4))\n",
        "    print('Precision:',precision.round(4))\n",
        "    print('Recall:',recall.round(4))\n",
        "    print('F1:',f1.round(4))\n",
        "\n",
        "    # Plot the confusion matrix\n",
        "    plt.figure(figsize=(10,8))\n",
        "    sns.heatmap(cm.T, xticklabels=classes, yticklabels=classes)\n",
        "    plt.xlabel('True labels')\n",
        "    plt.ylabel('Predicted labels')\n",
        "    plt.show()"
      ],
      "metadata": {
        "execution": {
          "iopub.status.busy": "2022-12-17T16:38:10.902926Z",
          "iopub.execute_input": "2022-12-17T16:38:10.903328Z",
          "iopub.status.idle": "2022-12-17T16:38:10.914444Z",
          "shell.execute_reply.started": "2022-12-17T16:38:10.903270Z",
          "shell.execute_reply": "2022-12-17T16:38:10.913373Z"
        },
        "trusted": true,
        "id": "23hS4mEhApRx"
      },
      "execution_count": null,
      "outputs": []
    },
    {
      "cell_type": "markdown",
      "source": [
        "# **Best Model**"
      ],
      "metadata": {
        "id": "gv6cUqpoApRx"
      }
    },
    {
      "cell_type": "markdown",
      "source": [
        "**Attention Layer**"
      ],
      "metadata": {
        "id": "9rVdYAckApRx"
      }
    },
    {
      "cell_type": "code",
      "source": [
        "import tensorflow.keras.backend as K\n",
        "\n",
        "class attention(tfkl.Layer):\n",
        "    def __init__(self,**kwargs):\n",
        "        super(attention,self).__init__(**kwargs)\n",
        "\n",
        "    def build(self,input_shape):\n",
        "        self.W=self.add_weight(name='attention_weight', shape=(input_shape[-1],1),\n",
        "                               initializer='random_normal', trainable=True)\n",
        "        self.b=self.add_weight(name='attention_bias', shape=(input_shape[1],1),\n",
        "                               initializer='zeros', trainable=True)\n",
        "        super(attention, self).build(input_shape)\n",
        "\n",
        "    def call(self,x):\n",
        "        # Alignment scores. Pass them through tanh function\n",
        "        e = K.tanh(K.dot(x,self.W)+self.b)\n",
        "        # Remove dimension of size 1\n",
        "        e = K.squeeze(e, axis=-1)\n",
        "        # Compute the weights\n",
        "        alpha = K.softmax(e)\n",
        "        # Reshape to tensorFlow format\n",
        "        alpha = K.expand_dims(alpha, axis=-1)\n",
        "        # Compute the context vector\n",
        "        context = x * alpha\n",
        "        context = K.sum(context, axis=1)\n",
        "        return context"
      ],
      "metadata": {
        "execution": {
          "iopub.status.busy": "2022-12-20T12:57:50.603107Z",
          "iopub.execute_input": "2022-12-20T12:57:50.604037Z",
          "iopub.status.idle": "2022-12-20T12:57:50.619196Z",
          "shell.execute_reply.started": "2022-12-20T12:57:50.603998Z",
          "shell.execute_reply": "2022-12-20T12:57:50.617986Z"
        },
        "trusted": true,
        "id": "8M17UdEoApRx"
      },
      "execution_count": null,
      "outputs": []
    },
    {
      "cell_type": "markdown",
      "source": [
        "**Hybrid model**"
      ],
      "metadata": {
        "id": "4-470avSApRy"
      }
    },
    {
      "cell_type": "code",
      "source": [
        "def build_hybrid_model(input_shape, classes):\n",
        "\n",
        "    input_layer = tfkl.Input(shape=input_shape, name='Input')\n",
        "\n",
        "    norm = tfkl.Normalization(axis=-1, mean=0, variance=10)(input_layer)\n",
        "\n",
        "    # model with conv dimension 3\n",
        "    cnn = tfkl.Conv1D(256,3,padding= 'same',activation='relu')(norm)\n",
        "    cnn = tfkl.Conv1D(256,3,padding='same',activation='relu')(cnn)\n",
        "    cnn = tfkl.Conv1D(256,3,padding='same',activation='relu', kernel_regularizer=tf.keras.regularizers.L1L2(2e-5))(cnn)\n",
        "    cnn = tfkl.MaxPooling1D()(cnn)\n",
        "    dropout = tfkl.Dropout(.4, seed=seed)(cnn)\n",
        "    cnn = tfkl.Conv1D(512,3,padding='same',activation='relu', kernel_regularizer=tf.keras.regularizers.L1L2(2e-5))(dropout)\n",
        "    cnn = tfkl.AveragePooling1D()(cnn)\n",
        "    drop1 = tfkl.Dropout(.3, seed=seed)(cnn)\n",
        "\n",
        "\n",
        "    # model with dimension 5\n",
        "    cnn2 = tfkl.Conv1D(256,5,padding= 'same',activation='relu')(norm)\n",
        "    cnn2 = tfkl.Conv1D(256,5,padding='same',activation='relu')(cnn2)\n",
        "    cnn2 = tfkl.Conv1D(256,5,padding='same',activation='relu', kernel_regularizer=tf.keras.regularizers.L1L2(2e-5))(cnn2)\n",
        "    cnn2 = tfkl.MaxPooling1D()(cnn2)\n",
        "    drop = tfkl.Dropout(.4, seed=seed)(cnn2)\n",
        "    cnn2 = tfkl.Conv1D(512,5,padding='same',activation='relu', kernel_regularizer=tf.keras.regularizers.L1L2(2e-4))(drop)\n",
        "    cnn2 = tfkl.AveragePooling1D()(cnn2)\n",
        "    drop2 = tfkl.Dropout(.5, seed=seed)(cnn2)\n",
        "\n",
        "\n",
        "    # model with dimension 4\n",
        "    cnn3 = tfkl.Conv1D(256,4,padding= 'same',activation='relu')(norm)\n",
        "    cnn3 = tfkl.Conv1D(256,4,padding='same',activation='relu')(cnn3)\n",
        "    cnn3 = tfkl.Conv1D(256,4,padding='same',activation='relu', kernel_regularizer=tf.keras.regularizers.L1L2(2e-5))(cnn3)\n",
        "    cnn3 = tfkl.MaxPooling1D()(cnn3)\n",
        "    drop = tfkl.Dropout(.4, seed=seed)(cnn3)\n",
        "    cnn3 = tfkl.Conv1D(512,4,padding='same',activation='relu', kernel_regularizer=tf.keras.regularizers.L1L2(2e-4))(drop)\n",
        "    cnn3 = tfkl.AveragePooling1D()(cnn3)\n",
        "    drop3 = tfkl.Dropout(.5, seed=seed)(cnn3)\n",
        "\n",
        "\n",
        "    # Classifier\n",
        "    merged = tfkl.concatenate([drop1, drop2, drop3], axis=1)\n",
        "    attention_layer = attention()(merged)\n",
        "    #gap = tfkl.GlobalAveragePooling1D()(drop)\n",
        "   # merged = tfkl.concatenate([attention_layer,gap], axis=1)\n",
        "\n",
        "    #dense= tfkl.Dense(256, activation='relu', kernel_regularizer=tf.keras.regularizers.L2(2e-4))(attention_layer)\n",
        "    classifier = tfkl.Dense(256, activation='relu', kernel_regularizer=tf.keras.regularizers.L2(2e-4))(attention_layer)\n",
        "    dropout3 = tfkl.Dropout(.5, seed=seed)(classifier)\n",
        "    output_layer = tfkl.Dense(classes, activation='softmax')(attention_layer)\n",
        "\n",
        "    # Connect input and output through the Model class\n",
        "    model = tfk.Model(inputs=input_layer, outputs=output_layer, name='model')\n",
        "\n",
        "    # Compile the model\n",
        "    model.compile(loss=tfk.losses.CategoricalCrossentropy(), optimizer=tfk.optimizers.Adam(3e-4), metrics='accuracy')\n",
        "\n",
        "    model.summary()\n",
        "\n",
        "    # Return the model\n",
        "    return model"
      ],
      "metadata": {
        "execution": {
          "iopub.status.busy": "2022-12-20T13:46:49.825647Z",
          "iopub.execute_input": "2022-12-20T13:46:49.825992Z",
          "iopub.status.idle": "2022-12-20T13:46:49.845519Z",
          "shell.execute_reply.started": "2022-12-20T13:46:49.825963Z",
          "shell.execute_reply": "2022-12-20T13:46:49.844516Z"
        },
        "trusted": true,
        "id": "DrWObsZHApRy"
      },
      "execution_count": null,
      "outputs": []
    },
    {
      "cell_type": "code",
      "source": [
        "hybrid_model = build_hybrid_model(input_shape, classes)"
      ],
      "metadata": {
        "execution": {
          "iopub.status.busy": "2022-12-20T13:46:50.408356Z",
          "iopub.execute_input": "2022-12-20T13:46:50.409030Z",
          "iopub.status.idle": "2022-12-20T13:46:50.608883Z",
          "shell.execute_reply.started": "2022-12-20T13:46:50.408991Z",
          "shell.execute_reply": "2022-12-20T13:46:50.607875Z"
        },
        "trusted": true,
        "id": "NueImoubApRy",
        "outputId": "7dbb6158-5b64-44c0-b464-dbf7018dbcda"
      },
      "execution_count": null,
      "outputs": [
        {
          "name": "stdout",
          "text": "Model: \"model\"\n__________________________________________________________________________________________________\nLayer (type)                    Output Shape         Param #     Connected to                     \n==================================================================================================\nInput (InputLayer)              [(None, 36, 6)]      0                                            \n__________________________________________________________________________________________________\nnormalization_4 (Normalization) (None, 36, 6)        0           Input[0][0]                      \n__________________________________________________________________________________________________\nconv1d_52 (Conv1D)              (None, 36, 256)      4864        normalization_4[0][0]            \n__________________________________________________________________________________________________\nconv1d_56 (Conv1D)              (None, 36, 256)      7936        normalization_4[0][0]            \n__________________________________________________________________________________________________\nconv1d_60 (Conv1D)              (None, 36, 256)      6400        normalization_4[0][0]            \n__________________________________________________________________________________________________\nconv1d_53 (Conv1D)              (None, 36, 256)      196864      conv1d_52[0][0]                  \n__________________________________________________________________________________________________\nconv1d_57 (Conv1D)              (None, 36, 256)      327936      conv1d_56[0][0]                  \n__________________________________________________________________________________________________\nconv1d_61 (Conv1D)              (None, 36, 256)      262400      conv1d_60[0][0]                  \n__________________________________________________________________________________________________\nconv1d_54 (Conv1D)              (None, 36, 256)      196864      conv1d_53[0][0]                  \n__________________________________________________________________________________________________\nconv1d_58 (Conv1D)              (None, 36, 256)      327936      conv1d_57[0][0]                  \n__________________________________________________________________________________________________\nconv1d_62 (Conv1D)              (None, 36, 256)      262400      conv1d_61[0][0]                  \n__________________________________________________________________________________________________\nmax_pooling1d_13 (MaxPooling1D) (None, 18, 256)      0           conv1d_54[0][0]                  \n__________________________________________________________________________________________________\nmax_pooling1d_14 (MaxPooling1D) (None, 18, 256)      0           conv1d_58[0][0]                  \n__________________________________________________________________________________________________\nmax_pooling1d_15 (MaxPooling1D) (None, 18, 256)      0           conv1d_62[0][0]                  \n__________________________________________________________________________________________________\ndropout_30 (Dropout)            (None, 18, 256)      0           max_pooling1d_13[0][0]           \n__________________________________________________________________________________________________\ndropout_32 (Dropout)            (None, 18, 256)      0           max_pooling1d_14[0][0]           \n__________________________________________________________________________________________________\ndropout_34 (Dropout)            (None, 18, 256)      0           max_pooling1d_15[0][0]           \n__________________________________________________________________________________________________\nconv1d_55 (Conv1D)              (None, 18, 512)      393728      dropout_30[0][0]                 \n__________________________________________________________________________________________________\nconv1d_59 (Conv1D)              (None, 18, 512)      655872      dropout_32[0][0]                 \n__________________________________________________________________________________________________\nconv1d_63 (Conv1D)              (None, 18, 512)      524800      dropout_34[0][0]                 \n__________________________________________________________________________________________________\naverage_pooling1d_13 (AveragePo (None, 9, 512)       0           conv1d_55[0][0]                  \n__________________________________________________________________________________________________\naverage_pooling1d_14 (AveragePo (None, 9, 512)       0           conv1d_59[0][0]                  \n__________________________________________________________________________________________________\naverage_pooling1d_15 (AveragePo (None, 9, 512)       0           conv1d_63[0][0]                  \n__________________________________________________________________________________________________\ndropout_31 (Dropout)            (None, 9, 512)       0           average_pooling1d_13[0][0]       \n__________________________________________________________________________________________________\ndropout_33 (Dropout)            (None, 9, 512)       0           average_pooling1d_14[0][0]       \n__________________________________________________________________________________________________\ndropout_35 (Dropout)            (None, 9, 512)       0           average_pooling1d_15[0][0]       \n__________________________________________________________________________________________________\nconcatenate_4 (Concatenate)     (None, 27, 512)      0           dropout_31[0][0]                 \n                                                                 dropout_33[0][0]                 \n                                                                 dropout_35[0][0]                 \n__________________________________________________________________________________________________\nattention_4 (attention)         (None, 512)          539         concatenate_4[0][0]              \n__________________________________________________________________________________________________\ndense_10 (Dense)                (None, 12)           6156        attention_4[0][0]                \n==================================================================================================\nTotal params: 3,174,695\nTrainable params: 3,174,695\nNon-trainable params: 0\n__________________________________________________________________________________________________\n",
          "output_type": "stream"
        }
      ]
    },
    {
      "cell_type": "code",
      "source": [
        "# Train the model\n",
        "history_hybrid = hybrid_model.fit(\n",
        "    x = x_train,\n",
        "    y = y_classes,\n",
        "    batch_size = batch_size,\n",
        "    #class_weight = class_weights,\n",
        "    epochs = epochs,\n",
        "    validation_data = (x_test, tfk.utils.to_categorical(y_test)),\n",
        "    #validation_split = 0.1,\n",
        "    callbacks = [\n",
        "        tfk.callbacks.EarlyStopping(monitor='val_accuracy', mode='max', patience=70, restore_best_weights=True),\n",
        "        #tfk.callbacks.ReduceLROnPlateau(monitor='val_accuracy', mode='max', patience=5, factor=0.5, min_lr=1e-5)\n",
        "    ]\n",
        ").history"
      ],
      "metadata": {
        "execution": {
          "iopub.status.busy": "2022-12-20T13:46:51.095474Z",
          "iopub.execute_input": "2022-12-20T13:46:51.096385Z",
          "iopub.status.idle": "2022-12-20T13:54:01.705669Z",
          "shell.execute_reply.started": "2022-12-20T13:46:51.096335Z",
          "shell.execute_reply": "2022-12-20T13:54:01.704712Z"
        },
        "trusted": true,
        "id": "meiHT3itApRz",
        "outputId": "1041059b-2ebe-447f-e73b-78a3b6663333"
      },
      "execution_count": null,
      "outputs": [
        {
          "name": "stdout",
          "text": "Epoch 1/300\n243/243 [==============================] - 4s 12ms/step - loss: 9.3998 - accuracy: 0.2434 - val_loss: 7.1148 - val_accuracy: 0.4424\nEpoch 2/300\n243/243 [==============================] - 3s 12ms/step - loss: 7.1340 - accuracy: 0.4236 - val_loss: 6.7644 - val_accuracy: 0.4527\nEpoch 3/300\n243/243 [==============================] - 3s 10ms/step - loss: 6.5645 - accuracy: 0.4159 - val_loss: 6.2662 - val_accuracy: 0.4259\nEpoch 4/300\n243/243 [==============================] - 3s 10ms/step - loss: 6.1282 - accuracy: 0.4313 - val_loss: 6.0827 - val_accuracy: 0.4136\nEpoch 5/300\n243/243 [==============================] - 2s 10ms/step - loss: 5.3799 - accuracy: 0.4920 - val_loss: 5.7787 - val_accuracy: 0.4588\nEpoch 6/300\n243/243 [==============================] - 3s 11ms/step - loss: 5.6731 - accuracy: 0.4627 - val_loss: 5.4835 - val_accuracy: 0.3621\nEpoch 7/300\n243/243 [==============================] - 3s 11ms/step - loss: 4.9438 - accuracy: 0.4987 - val_loss: 4.7132 - val_accuracy: 0.5144\nEpoch 8/300\n243/243 [==============================] - 3s 10ms/step - loss: 4.4660 - accuracy: 0.5466 - val_loss: 4.5715 - val_accuracy: 0.4959\nEpoch 9/300\n243/243 [==============================] - 3s 10ms/step - loss: 4.3184 - accuracy: 0.5682 - val_loss: 4.1489 - val_accuracy: 0.5658\nEpoch 10/300\n243/243 [==============================] - 3s 10ms/step - loss: 4.5332 - accuracy: 0.5080 - val_loss: 3.9949 - val_accuracy: 0.5412\nEpoch 11/300\n243/243 [==============================] - 3s 11ms/step - loss: 3.9081 - accuracy: 0.5564 - val_loss: 3.8296 - val_accuracy: 0.5638\nEpoch 12/300\n243/243 [==============================] - 3s 10ms/step - loss: 3.6282 - accuracy: 0.5739 - val_loss: 3.8696 - val_accuracy: 0.5453\nEpoch 13/300\n243/243 [==============================] - 3s 10ms/step - loss: 3.4115 - accuracy: 0.5826 - val_loss: 3.3599 - val_accuracy: 0.6008\nEpoch 14/300\n243/243 [==============================] - 3s 12ms/step - loss: 3.0341 - accuracy: 0.6269 - val_loss: 3.0461 - val_accuracy: 0.6523\nEpoch 15/300\n243/243 [==============================] - 3s 11ms/step - loss: 2.8086 - accuracy: 0.6346 - val_loss: 2.8169 - val_accuracy: 0.6646\nEpoch 16/300\n243/243 [==============================] - 3s 10ms/step - loss: 2.8916 - accuracy: 0.6233 - val_loss: 2.6753 - val_accuracy: 0.6626\nEpoch 17/300\n243/243 [==============================] - 3s 10ms/step - loss: 2.8596 - accuracy: 0.6037 - val_loss: 3.0504 - val_accuracy: 0.5761\nEpoch 18/300\n243/243 [==============================] - 3s 10ms/step - loss: 2.4709 - accuracy: 0.6433 - val_loss: 2.3229 - val_accuracy: 0.6872\nEpoch 19/300\n243/243 [==============================] - 3s 11ms/step - loss: 2.1889 - accuracy: 0.6752 - val_loss: 2.2364 - val_accuracy: 0.6502\nEpoch 20/300\n243/243 [==============================] - 3s 10ms/step - loss: 1.9785 - accuracy: 0.6948 - val_loss: 2.1129 - val_accuracy: 0.6708\nEpoch 21/300\n243/243 [==============================] - 3s 10ms/step - loss: 1.8804 - accuracy: 0.7061 - val_loss: 2.0176 - val_accuracy: 0.6770\nEpoch 22/300\n243/243 [==============================] - 3s 10ms/step - loss: 1.7209 - accuracy: 0.7226 - val_loss: 1.8664 - val_accuracy: 0.7140\nEpoch 23/300\n243/243 [==============================] - 3s 11ms/step - loss: 1.6470 - accuracy: 0.7087 - val_loss: 1.9411 - val_accuracy: 0.6852\nEpoch 24/300\n243/243 [==============================] - 3s 11ms/step - loss: 1.6897 - accuracy: 0.7092 - val_loss: 1.6855 - val_accuracy: 0.7202\nEpoch 25/300\n243/243 [==============================] - 2s 10ms/step - loss: 1.7423 - accuracy: 0.6917 - val_loss: 1.7652 - val_accuracy: 0.6728\nEpoch 26/300\n243/243 [==============================] - 3s 12ms/step - loss: 1.6940 - accuracy: 0.6989 - val_loss: 2.4708 - val_accuracy: 0.6132\nEpoch 27/300\n243/243 [==============================] - 3s 10ms/step - loss: 1.8215 - accuracy: 0.6516 - val_loss: 1.8272 - val_accuracy: 0.6564\nEpoch 28/300\n243/243 [==============================] - 3s 11ms/step - loss: 1.6658 - accuracy: 0.6866 - val_loss: 1.7366 - val_accuracy: 0.6667\nEpoch 29/300\n243/243 [==============================] - 3s 10ms/step - loss: 1.3716 - accuracy: 0.7339 - val_loss: 1.6154 - val_accuracy: 0.7037\nEpoch 30/300\n243/243 [==============================] - 2s 10ms/step - loss: 1.5404 - accuracy: 0.7056 - val_loss: 1.5425 - val_accuracy: 0.7160\nEpoch 31/300\n243/243 [==============================] - 3s 10ms/step - loss: 1.2996 - accuracy: 0.7396 - val_loss: 1.5173 - val_accuracy: 0.7222\nEpoch 32/300\n243/243 [==============================] - 3s 11ms/step - loss: 1.1798 - accuracy: 0.7699 - val_loss: 1.4327 - val_accuracy: 0.7222\nEpoch 33/300\n243/243 [==============================] - 2s 10ms/step - loss: 1.3049 - accuracy: 0.7550 - val_loss: 1.7631 - val_accuracy: 0.7016\nEpoch 34/300\n243/243 [==============================] - 2s 10ms/step - loss: 1.1299 - accuracy: 0.7797 - val_loss: 1.4077 - val_accuracy: 0.7181\nEpoch 35/300\n243/243 [==============================] - 2s 10ms/step - loss: 0.9681 - accuracy: 0.8055 - val_loss: 1.4287 - val_accuracy: 0.7160\nEpoch 36/300\n243/243 [==============================] - 3s 11ms/step - loss: 0.9269 - accuracy: 0.8152 - val_loss: 1.3845 - val_accuracy: 0.7222\nEpoch 37/300\n243/243 [==============================] - 3s 10ms/step - loss: 1.0518 - accuracy: 0.8127 - val_loss: 1.8340 - val_accuracy: 0.6728\nEpoch 38/300\n243/243 [==============================] - 3s 12ms/step - loss: 1.9895 - accuracy: 0.7303 - val_loss: 1.8006 - val_accuracy: 0.6975\nEpoch 39/300\n243/243 [==============================] - 3s 10ms/step - loss: 1.2955 - accuracy: 0.7633 - val_loss: 1.8673 - val_accuracy: 0.6852\nEpoch 40/300\n243/243 [==============================] - 3s 11ms/step - loss: 1.1829 - accuracy: 0.7725 - val_loss: 2.2148 - val_accuracy: 0.5720\nEpoch 41/300\n243/243 [==============================] - 3s 11ms/step - loss: 1.1698 - accuracy: 0.7751 - val_loss: 1.3523 - val_accuracy: 0.7243\nEpoch 42/300\n243/243 [==============================] - 3s 10ms/step - loss: 0.9292 - accuracy: 0.8348 - val_loss: 1.6400 - val_accuracy: 0.7099\nEpoch 43/300\n243/243 [==============================] - 3s 10ms/step - loss: 0.8974 - accuracy: 0.8430 - val_loss: 1.5164 - val_accuracy: 0.7181\nEpoch 44/300\n243/243 [==============================] - 3s 10ms/step - loss: 0.8451 - accuracy: 0.8559 - val_loss: 1.3785 - val_accuracy: 0.7263\nEpoch 45/300\n243/243 [==============================] - 3s 11ms/step - loss: 0.8574 - accuracy: 0.8595 - val_loss: 1.6185 - val_accuracy: 0.7078\nEpoch 46/300\n243/243 [==============================] - 2s 10ms/step - loss: 0.9115 - accuracy: 0.8435 - val_loss: 1.5984 - val_accuracy: 0.6770\nEpoch 47/300\n243/243 [==============================] - 3s 10ms/step - loss: 0.8355 - accuracy: 0.8487 - val_loss: 1.5365 - val_accuracy: 0.6996\nEpoch 48/300\n243/243 [==============================] - 2s 10ms/step - loss: 0.6882 - accuracy: 0.8857 - val_loss: 1.4804 - val_accuracy: 0.7140\nEpoch 49/300\n243/243 [==============================] - 3s 11ms/step - loss: 0.6173 - accuracy: 0.9038 - val_loss: 1.7297 - val_accuracy: 0.6914\nEpoch 50/300\n243/243 [==============================] - 3s 12ms/step - loss: 0.5887 - accuracy: 0.9146 - val_loss: 1.5496 - val_accuracy: 0.7243\nEpoch 51/300\n243/243 [==============================] - 2s 10ms/step - loss: 0.5906 - accuracy: 0.9099 - val_loss: 1.5857 - val_accuracy: 0.6934\nEpoch 52/300\n243/243 [==============================] - 3s 10ms/step - loss: 0.6592 - accuracy: 0.9125 - val_loss: 1.8383 - val_accuracy: 0.6831\nEpoch 53/300\n243/243 [==============================] - 3s 11ms/step - loss: 1.5315 - accuracy: 0.8101 - val_loss: 1.9476 - val_accuracy: 0.7078\nEpoch 54/300\n243/243 [==============================] - 2s 10ms/step - loss: 1.2018 - accuracy: 0.8327 - val_loss: 1.8369 - val_accuracy: 0.7058\nEpoch 55/300\n243/243 [==============================] - 3s 10ms/step - loss: 0.7158 - accuracy: 0.9084 - val_loss: 1.7882 - val_accuracy: 0.7160\nEpoch 56/300\n243/243 [==============================] - 3s 10ms/step - loss: 0.8547 - accuracy: 0.8847 - val_loss: 1.7532 - val_accuracy: 0.7243\nEpoch 57/300\n243/243 [==============================] - 3s 11ms/step - loss: 0.6722 - accuracy: 0.9141 - val_loss: 1.7208 - val_accuracy: 0.7325\nEpoch 58/300\n243/243 [==============================] - 3s 10ms/step - loss: 0.5690 - accuracy: 0.9315 - val_loss: 1.6788 - val_accuracy: 0.7366\nEpoch 59/300\n243/243 [==============================] - 2s 10ms/step - loss: 0.6440 - accuracy: 0.9233 - val_loss: 1.8535 - val_accuracy: 0.6420\nEpoch 60/300\n243/243 [==============================] - 3s 10ms/step - loss: 0.5915 - accuracy: 0.9166 - val_loss: 1.8648 - val_accuracy: 0.7366\nEpoch 61/300\n243/243 [==============================] - 3s 10ms/step - loss: 0.5565 - accuracy: 0.9444 - val_loss: 1.7768 - val_accuracy: 0.7284\nEpoch 62/300\n243/243 [==============================] - 3s 13ms/step - loss: 0.5158 - accuracy: 0.9403 - val_loss: 1.9529 - val_accuracy: 0.7325\nEpoch 63/300\n243/243 [==============================] - 3s 11ms/step - loss: 0.4253 - accuracy: 0.9573 - val_loss: 1.8427 - val_accuracy: 0.7119\nEpoch 64/300\n243/243 [==============================] - 3s 10ms/step - loss: 0.6079 - accuracy: 0.9305 - val_loss: 1.8247 - val_accuracy: 0.7016\nEpoch 65/300\n243/243 [==============================] - 3s 10ms/step - loss: 0.5011 - accuracy: 0.9393 - val_loss: 1.8658 - val_accuracy: 0.7366\nEpoch 66/300\n243/243 [==============================] - 3s 11ms/step - loss: 0.4275 - accuracy: 0.9547 - val_loss: 1.8082 - val_accuracy: 0.7202\nEpoch 67/300\n243/243 [==============================] - 2s 10ms/step - loss: 0.4157 - accuracy: 0.9599 - val_loss: 2.6617 - val_accuracy: 0.6749\nEpoch 68/300\n243/243 [==============================] - 3s 10ms/step - loss: 0.4919 - accuracy: 0.9413 - val_loss: 1.9648 - val_accuracy: 0.7160\nEpoch 69/300\n243/243 [==============================] - 3s 11ms/step - loss: 0.3751 - accuracy: 0.9686 - val_loss: 2.1035 - val_accuracy: 0.7099\nEpoch 70/300\n243/243 [==============================] - 3s 11ms/step - loss: 0.4882 - accuracy: 0.9454 - val_loss: 2.1278 - val_accuracy: 0.7243\nEpoch 71/300\n243/243 [==============================] - 2s 10ms/step - loss: 0.8281 - accuracy: 0.8734 - val_loss: 2.1815 - val_accuracy: 0.6852\nEpoch 72/300\n243/243 [==============================] - 3s 10ms/step - loss: 0.5463 - accuracy: 0.9444 - val_loss: 2.0293 - val_accuracy: 0.7387\nEpoch 73/300\n243/243 [==============================] - 3s 10ms/step - loss: 0.4205 - accuracy: 0.9650 - val_loss: 2.4220 - val_accuracy: 0.7305\nEpoch 74/300\n243/243 [==============================] - 3s 13ms/step - loss: 0.3734 - accuracy: 0.9753 - val_loss: 2.1014 - val_accuracy: 0.7058\nEpoch 75/300\n243/243 [==============================] - 3s 10ms/step - loss: 0.3745 - accuracy: 0.9686 - val_loss: 2.2156 - val_accuracy: 0.7058\nEpoch 76/300\n243/243 [==============================] - 3s 10ms/step - loss: 0.4098 - accuracy: 0.9609 - val_loss: 2.1499 - val_accuracy: 0.7119\nEpoch 77/300\n243/243 [==============================] - 2s 10ms/step - loss: 0.3768 - accuracy: 0.9701 - val_loss: 2.4933 - val_accuracy: 0.7140\nEpoch 78/300\n243/243 [==============================] - 3s 11ms/step - loss: 1.0456 - accuracy: 0.8986 - val_loss: 1.8814 - val_accuracy: 0.6996\nEpoch 79/300\n243/243 [==============================] - 3s 11ms/step - loss: 0.7159 - accuracy: 0.9480 - val_loss: 2.4557 - val_accuracy: 0.6543\nEpoch 80/300\n243/243 [==============================] - 3s 10ms/step - loss: 0.7373 - accuracy: 0.9295 - val_loss: 2.5108 - val_accuracy: 0.7305\nEpoch 81/300\n243/243 [==============================] - 3s 10ms/step - loss: 0.4911 - accuracy: 0.9665 - val_loss: 2.1145 - val_accuracy: 0.7305\nEpoch 82/300\n243/243 [==============================] - 2s 10ms/step - loss: 0.3880 - accuracy: 0.9851 - val_loss: 2.5081 - val_accuracy: 0.7387\nEpoch 83/300\n243/243 [==============================] - 3s 11ms/step - loss: 0.5552 - accuracy: 0.9449 - val_loss: 2.1976 - val_accuracy: 0.7140\nEpoch 84/300\n243/243 [==============================] - 3s 10ms/step - loss: 0.3907 - accuracy: 0.9738 - val_loss: 2.1229 - val_accuracy: 0.7222\nEpoch 85/300\n243/243 [==============================] - 3s 10ms/step - loss: 0.3510 - accuracy: 0.9789 - val_loss: 2.2016 - val_accuracy: 0.7366\nEpoch 86/300\n243/243 [==============================] - 3s 11ms/step - loss: 0.4141 - accuracy: 0.9758 - val_loss: 2.3550 - val_accuracy: 0.7325\nEpoch 87/300\n243/243 [==============================] - 3s 12ms/step - loss: 0.3128 - accuracy: 0.9918 - val_loss: 2.7254 - val_accuracy: 0.7202\nEpoch 88/300\n243/243 [==============================] - 3s 11ms/step - loss: 0.4084 - accuracy: 0.9707 - val_loss: 2.1421 - val_accuracy: 0.6975\nEpoch 89/300\n243/243 [==============================] - 3s 11ms/step - loss: 0.3128 - accuracy: 0.9876 - val_loss: 2.5840 - val_accuracy: 0.7140\nEpoch 90/300\n243/243 [==============================] - 2s 10ms/step - loss: 0.3087 - accuracy: 0.9902 - val_loss: 2.7112 - val_accuracy: 0.6872\nEpoch 91/300\n243/243 [==============================] - 3s 11ms/step - loss: 0.3358 - accuracy: 0.9779 - val_loss: 2.5552 - val_accuracy: 0.7140\nEpoch 92/300\n243/243 [==============================] - 3s 10ms/step - loss: 0.3853 - accuracy: 0.9614 - val_loss: 2.6015 - val_accuracy: 0.7016\nEpoch 93/300\n243/243 [==============================] - 2s 10ms/step - loss: 0.5796 - accuracy: 0.9629 - val_loss: 6.0277 - val_accuracy: 0.5905\nEpoch 94/300\n243/243 [==============================] - 2s 10ms/step - loss: 1.2306 - accuracy: 0.8842 - val_loss: 2.2093 - val_accuracy: 0.7160\nEpoch 95/300\n243/243 [==============================] - 3s 11ms/step - loss: 0.4697 - accuracy: 0.9686 - val_loss: 2.2379 - val_accuracy: 0.7428\nEpoch 96/300\n243/243 [==============================] - 3s 11ms/step - loss: 0.3820 - accuracy: 0.9856 - val_loss: 2.3316 - val_accuracy: 0.7284\nEpoch 97/300\n243/243 [==============================] - 3s 10ms/step - loss: 0.3816 - accuracy: 0.9779 - val_loss: 2.4269 - val_accuracy: 0.7160\nEpoch 98/300\n243/243 [==============================] - 3s 11ms/step - loss: 0.3202 - accuracy: 0.9897 - val_loss: 2.2965 - val_accuracy: 0.7160\nEpoch 99/300\n243/243 [==============================] - 3s 10ms/step - loss: 0.3039 - accuracy: 0.9907 - val_loss: 2.3331 - val_accuracy: 0.7263\nEpoch 100/300\n243/243 [==============================] - 3s 11ms/step - loss: 0.2947 - accuracy: 0.9923 - val_loss: 2.4791 - val_accuracy: 0.7058\nEpoch 101/300\n243/243 [==============================] - 3s 10ms/step - loss: 0.2959 - accuracy: 0.9887 - val_loss: 3.2915 - val_accuracy: 0.7078\nEpoch 102/300\n243/243 [==============================] - 3s 10ms/step - loss: 0.2861 - accuracy: 0.9887 - val_loss: 2.9421 - val_accuracy: 0.7037\nEpoch 103/300\n243/243 [==============================] - 2s 10ms/step - loss: 0.3707 - accuracy: 0.9686 - val_loss: 3.4637 - val_accuracy: 0.6934\nEpoch 104/300\n243/243 [==============================] - 3s 11ms/step - loss: 0.3936 - accuracy: 0.9676 - val_loss: 2.7945 - val_accuracy: 0.7140\nEpoch 105/300\n243/243 [==============================] - 3s 10ms/step - loss: 0.2859 - accuracy: 0.9907 - val_loss: 3.1753 - val_accuracy: 0.7243\nEpoch 106/300\n243/243 [==============================] - 2s 10ms/step - loss: 0.3937 - accuracy: 0.9727 - val_loss: 3.4970 - val_accuracy: 0.6790\nEpoch 107/300\n243/243 [==============================] - 3s 10ms/step - loss: 0.6190 - accuracy: 0.9521 - val_loss: 2.2566 - val_accuracy: 0.7202\nEpoch 108/300\n243/243 [==============================] - 3s 11ms/step - loss: 0.3488 - accuracy: 0.9804 - val_loss: 3.4391 - val_accuracy: 0.6811\nEpoch 109/300\n243/243 [==============================] - 3s 10ms/step - loss: 0.3713 - accuracy: 0.9758 - val_loss: 2.1714 - val_accuracy: 0.7119\nEpoch 110/300\n243/243 [==============================] - 3s 11ms/step - loss: 0.3112 - accuracy: 0.9882 - val_loss: 2.5490 - val_accuracy: 0.7243\nEpoch 111/300\n243/243 [==============================] - 3s 11ms/step - loss: 0.2845 - accuracy: 0.9923 - val_loss: 2.6720 - val_accuracy: 0.7325\nEpoch 112/300\n243/243 [==============================] - 3s 11ms/step - loss: 0.3268 - accuracy: 0.9779 - val_loss: 2.6756 - val_accuracy: 0.7284\nEpoch 113/300\n243/243 [==============================] - 3s 10ms/step - loss: 0.5086 - accuracy: 0.9619 - val_loss: 4.9949 - val_accuracy: 0.6420\nEpoch 114/300\n243/243 [==============================] - 3s 10ms/step - loss: 0.6433 - accuracy: 0.9449 - val_loss: 2.5227 - val_accuracy: 0.7037\nEpoch 115/300\n243/243 [==============================] - 3s 10ms/step - loss: 0.3581 - accuracy: 0.9902 - val_loss: 2.4840 - val_accuracy: 0.7263\nEpoch 116/300\n243/243 [==============================] - 2s 10ms/step - loss: 0.5989 - accuracy: 0.9743 - val_loss: 2.4156 - val_accuracy: 0.7099\nEpoch 117/300\n243/243 [==============================] - 3s 11ms/step - loss: 0.4704 - accuracy: 0.9665 - val_loss: 2.2082 - val_accuracy: 0.7119\nEpoch 118/300\n243/243 [==============================] - 3s 10ms/step - loss: 1.1912 - accuracy: 0.8909 - val_loss: 2.2967 - val_accuracy: 0.6831\nEpoch 119/300\n243/243 [==============================] - 3s 10ms/step - loss: 0.7854 - accuracy: 0.9434 - val_loss: 2.2885 - val_accuracy: 0.7140\nEpoch 120/300\n243/243 [==============================] - 3s 10ms/step - loss: 0.5301 - accuracy: 0.9686 - val_loss: 2.5406 - val_accuracy: 0.7140\nEpoch 121/300\n243/243 [==============================] - 3s 11ms/step - loss: 0.3995 - accuracy: 0.9840 - val_loss: 2.4895 - val_accuracy: 0.7058\nEpoch 122/300\n243/243 [==============================] - 3s 12ms/step - loss: 0.3329 - accuracy: 0.9923 - val_loss: 2.5961 - val_accuracy: 0.7202\nEpoch 123/300\n243/243 [==============================] - 3s 11ms/step - loss: 0.3128 - accuracy: 0.9923 - val_loss: 2.5253 - val_accuracy: 0.7305\nEpoch 124/300\n243/243 [==============================] - 3s 10ms/step - loss: 0.2807 - accuracy: 0.9974 - val_loss: 2.5266 - val_accuracy: 0.7305\nEpoch 125/300\n243/243 [==============================] - 3s 11ms/step - loss: 0.2742 - accuracy: 0.9949 - val_loss: 2.8964 - val_accuracy: 0.7346\nEpoch 126/300\n243/243 [==============================] - 3s 10ms/step - loss: 0.2715 - accuracy: 0.9913 - val_loss: 2.7682 - val_accuracy: 0.7387\nEpoch 127/300\n243/243 [==============================] - 3s 10ms/step - loss: 0.2874 - accuracy: 0.9876 - val_loss: 2.5699 - val_accuracy: 0.7119\nEpoch 128/300\n243/243 [==============================] - 2s 10ms/step - loss: 0.3128 - accuracy: 0.9789 - val_loss: 2.5415 - val_accuracy: 0.7016\nEpoch 129/300\n243/243 [==============================] - 3s 11ms/step - loss: 0.2794 - accuracy: 0.9913 - val_loss: 2.6047 - val_accuracy: 0.7078\nEpoch 130/300\n243/243 [==============================] - 3s 11ms/step - loss: 0.6541 - accuracy: 0.9511 - val_loss: 2.3717 - val_accuracy: 0.7222\nEpoch 131/300\n243/243 [==============================] - 3s 11ms/step - loss: 0.4210 - accuracy: 0.9753 - val_loss: 2.1821 - val_accuracy: 0.7284\nEpoch 132/300\n243/243 [==============================] - 3s 10ms/step - loss: 0.3231 - accuracy: 0.9897 - val_loss: 2.2164 - val_accuracy: 0.7037\nEpoch 133/300\n243/243 [==============================] - 3s 10ms/step - loss: 0.2859 - accuracy: 0.9902 - val_loss: 2.4065 - val_accuracy: 0.7428\nEpoch 134/300\n243/243 [==============================] - 3s 12ms/step - loss: 0.2848 - accuracy: 0.9861 - val_loss: 2.4150 - val_accuracy: 0.7305\nEpoch 135/300\n243/243 [==============================] - 3s 11ms/step - loss: 0.3115 - accuracy: 0.9835 - val_loss: 2.2337 - val_accuracy: 0.7387\nEpoch 136/300\n243/243 [==============================] - 3s 10ms/step - loss: 0.2657 - accuracy: 0.9902 - val_loss: 2.4495 - val_accuracy: 0.7284\nEpoch 137/300\n243/243 [==============================] - 3s 10ms/step - loss: 0.2368 - accuracy: 0.9985 - val_loss: 2.5492 - val_accuracy: 0.7428\nEpoch 138/300\n243/243 [==============================] - 3s 11ms/step - loss: 0.3355 - accuracy: 0.9779 - val_loss: 2.4650 - val_accuracy: 0.7119\nEpoch 139/300\n243/243 [==============================] - 2s 10ms/step - loss: 0.3962 - accuracy: 0.9779 - val_loss: 2.7398 - val_accuracy: 0.7037\nEpoch 140/300\n243/243 [==============================] - 2s 10ms/step - loss: 0.3267 - accuracy: 0.9840 - val_loss: 2.5630 - val_accuracy: 0.7222\nEpoch 141/300\n243/243 [==============================] - 3s 10ms/step - loss: 0.2600 - accuracy: 0.9943 - val_loss: 2.4306 - val_accuracy: 0.7099\nEpoch 142/300\n243/243 [==============================] - 3s 11ms/step - loss: 0.2479 - accuracy: 0.9928 - val_loss: 2.6790 - val_accuracy: 0.7305\nEpoch 143/300\n243/243 [==============================] - 3s 10ms/step - loss: 0.2427 - accuracy: 0.9933 - val_loss: 2.5753 - val_accuracy: 0.7160\nEpoch 144/300\n243/243 [==============================] - 3s 10ms/step - loss: 0.2498 - accuracy: 0.9902 - val_loss: 2.9960 - val_accuracy: 0.6749\nEpoch 145/300\n243/243 [==============================] - 3s 10ms/step - loss: 0.3891 - accuracy: 0.9732 - val_loss: 2.2606 - val_accuracy: 0.7160\nEpoch 146/300\n243/243 [==============================] - 3s 10ms/step - loss: 0.2892 - accuracy: 0.9856 - val_loss: 2.4222 - val_accuracy: 0.7016\nEpoch 147/300\n243/243 [==============================] - 3s 13ms/step - loss: 0.7421 - accuracy: 0.9424 - val_loss: 2.9726 - val_accuracy: 0.6687\nEpoch 148/300\n243/243 [==============================] - 3s 11ms/step - loss: 0.5961 - accuracy: 0.9583 - val_loss: 2.1473 - val_accuracy: 0.7181\nEpoch 149/300\n243/243 [==============================] - 2s 10ms/step - loss: 0.3890 - accuracy: 0.9810 - val_loss: 3.0570 - val_accuracy: 0.7263\nEpoch 150/300\n243/243 [==============================] - 2s 10ms/step - loss: 0.3974 - accuracy: 0.9748 - val_loss: 2.4279 - val_accuracy: 0.7119\nEpoch 151/300\n243/243 [==============================] - 3s 11ms/step - loss: 0.8105 - accuracy: 0.9496 - val_loss: 2.6923 - val_accuracy: 0.7243\nEpoch 152/300\n243/243 [==============================] - 2s 10ms/step - loss: 0.3582 - accuracy: 0.9861 - val_loss: 2.6346 - val_accuracy: 0.7078\nEpoch 153/300\n243/243 [==============================] - 3s 10ms/step - loss: 0.4392 - accuracy: 0.9851 - val_loss: 2.7899 - val_accuracy: 0.7140\nEpoch 154/300\n243/243 [==============================] - 3s 10ms/step - loss: 0.3759 - accuracy: 0.9897 - val_loss: 2.5559 - val_accuracy: 0.7202\nEpoch 155/300\n243/243 [==============================] - 3s 11ms/step - loss: 0.2974 - accuracy: 0.9974 - val_loss: 2.5539 - val_accuracy: 0.7160\nEpoch 156/300\n243/243 [==============================] - 3s 10ms/step - loss: 0.2679 - accuracy: 0.9990 - val_loss: 2.8540 - val_accuracy: 0.7325\nEpoch 157/300\n243/243 [==============================] - 3s 10ms/step - loss: 0.3062 - accuracy: 0.9882 - val_loss: 2.6828 - val_accuracy: 0.7305\nEpoch 158/300\n243/243 [==============================] - 3s 10ms/step - loss: 0.3021 - accuracy: 0.9825 - val_loss: 2.6456 - val_accuracy: 0.7140\nEpoch 159/300\n243/243 [==============================] - 3s 13ms/step - loss: 0.2716 - accuracy: 0.9902 - val_loss: 2.6809 - val_accuracy: 0.7305\nEpoch 160/300\n243/243 [==============================] - 3s 10ms/step - loss: 0.2311 - accuracy: 0.9990 - val_loss: 2.7333 - val_accuracy: 0.7325\nEpoch 161/300\n243/243 [==============================] - 3s 10ms/step - loss: 0.2224 - accuracy: 0.9985 - val_loss: 2.7442 - val_accuracy: 0.7284\nEpoch 162/300\n243/243 [==============================] - 3s 10ms/step - loss: 0.4130 - accuracy: 0.9593 - val_loss: 3.0012 - val_accuracy: 0.6831\nEpoch 163/300\n243/243 [==============================] - 3s 11ms/step - loss: 0.6352 - accuracy: 0.9439 - val_loss: 2.5748 - val_accuracy: 0.7160\nEpoch 164/300\n243/243 [==============================] - 3s 10ms/step - loss: 0.3591 - accuracy: 0.9882 - val_loss: 2.7949 - val_accuracy: 0.7325\nEpoch 165/300\n243/243 [==============================] - 2s 10ms/step - loss: 0.4046 - accuracy: 0.9753 - val_loss: 2.6431 - val_accuracy: 0.7202\n",
          "output_type": "stream"
        }
      ]
    },
    {
      "cell_type": "code",
      "source": [
        "%cd\n",
        "%cd ..\n",
        "hybrid_model.save('kaggle/working/hybrid_model')\n",
        "!zip -r kaggle/working/hybrid_model kaggle/working/hybrid_model"
      ],
      "metadata": {
        "execution": {
          "iopub.status.busy": "2022-12-20T13:54:27.484945Z",
          "iopub.execute_input": "2022-12-20T13:54:27.485299Z",
          "iopub.status.idle": "2022-12-20T13:55:22.110670Z",
          "shell.execute_reply.started": "2022-12-20T13:54:27.485269Z",
          "shell.execute_reply": "2022-12-20T13:55:22.109528Z"
        },
        "trusted": true,
        "id": "ZhGiOtycApRz",
        "outputId": "cda725e3-bda2-4275-9c02-f1764f031a4c"
      },
      "execution_count": null,
      "outputs": [
        {
          "name": "stdout",
          "text": "/root\n/\n",
          "output_type": "stream"
        },
        {
          "name": "stderr",
          "text": "2022-12-20 13:55:15.834555: W tensorflow/python/util/util.cc:348] Sets are not currently considered sequences, but this may change in the future, so consider avoiding using them.\n",
          "output_type": "stream"
        },
        {
          "name": "stdout",
          "text": "  adding: kaggle/working/hybrid_model_2/ (stored 0%)\n  adding: kaggle/working/hybrid_model_2/saved_model.pb (deflated 90%)\n  adding: kaggle/working/hybrid_model_2/keras_metadata.pb (deflated 94%)\n  adding: kaggle/working/hybrid_model_2/variables/ (stored 0%)\n  adding: kaggle/working/hybrid_model_2/variables/variables.data-00000-of-00001 (deflated 20%)\n  adding: kaggle/working/hybrid_model_2/variables/variables.index (deflated 74%)\n  adding: kaggle/working/hybrid_model_2/assets/ (stored 0%)\n",
          "output_type": "stream"
        }
      ]
    },
    {
      "cell_type": "code",
      "source": [],
      "metadata": {
        "id": "gHR7d_usApRz"
      },
      "execution_count": null,
      "outputs": []
    }
  ]
}